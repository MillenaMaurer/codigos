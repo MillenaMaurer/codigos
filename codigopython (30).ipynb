{
  "nbformat": 4,
  "nbformat_minor": 0,
  "metadata": {
    "colab": {
      "provenance": []
    },
    "kernelspec": {
      "name": "python3",
      "display_name": "Python 3"
    },
    "language_info": {
      "name": "python"
    }
  },
  "cells": [
    {
      "cell_type": "code",
      "execution_count": 13,
      "metadata": {
        "colab": {
          "base_uri": "https://localhost:8080/"
        },
        "id": "JcM5yRdHKscX",
        "outputId": "891d0020-e4d5-49d0-ec80-ca2717fcdb26"
      },
      "outputs": [
        {
          "output_type": "stream",
          "name": "stdout",
          "text": [
            "Digite sua senha:454\n",
            "Digite uma senha valido:3453\n",
            "Digite uma senha valido:1234\n",
            "Login correrto\n"
          ]
        }
      ],
      "source": [
        "senha = int(input(\"Digite sua senha:\"))\n",
        "while senha != 1234:\n",
        " senha = int(input(\"Digite uma senha valido:\"))\n",
        "print(\"Login correrto\")"
      ]
    }
  ]
}