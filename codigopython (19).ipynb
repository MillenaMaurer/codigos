{
  "nbformat": 4,
  "nbformat_minor": 0,
  "metadata": {
    "colab": {
      "provenance": []
    },
    "kernelspec": {
      "name": "python3",
      "display_name": "Python 3"
    },
    "language_info": {
      "name": "python"
    }
  },
  "cells": [
    {
      "cell_type": "code",
      "execution_count": null,
      "metadata": {
        "colab": {
          "base_uri": "https://localhost:8080/"
        },
        "id": "s3FJrvlR6yqw",
        "outputId": "637ee02a-1801-4ff8-ee29-fd6a69be3938"
      },
      "outputs": [
        {
          "output_type": "stream",
          "name": "stdout",
          "text": [
            " Insira o primeiro numero415\n",
            "Insira o segundo numero893\n",
            "893 415\n"
          ]
        }
      ],
      "source": [
        "a = (input(\" Insira o primeiro numero\"))\n",
        "b = (input(\"Insira o segundo numero\"))\n",
        "if a > b:\n",
        "  print(a, b)\n",
        "elif b > a:\n",
        "  print(b, a)\n",
        "\n",
        "\n"
      ]
    }
  ]
}