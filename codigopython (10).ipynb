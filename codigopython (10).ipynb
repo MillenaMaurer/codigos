{
  "nbformat": 4,
  "nbformat_minor": 0,
  "metadata": {
    "colab": {
      "provenance": []
    },
    "kernelspec": {
      "name": "python3",
      "display_name": "Python 3"
    },
    "language_info": {
      "name": "python"
    }
  },
  "cells": [
    {
      "cell_type": "code",
      "execution_count": null,
      "metadata": {
        "colab": {
          "base_uri": "https://localhost:8080/"
        },
        "id": "tZxx5AVTHzSr",
        "outputId": "7e26570c-3c90-4c22-de8f-ce0cf3012a0a"
      },
      "outputs": [
        {
          "output_type": "stream",
          "name": "stdout",
          "text": [
            "Digite o quanto você faturou20000\n",
            "Digite o quanto você faturou20000\n",
            "Digite o quanto você faturou20000\n",
            "Digite o quanto você faturou20000\n",
            "Digite o quanto você faturou20000\n",
            "46000.0\n"
          ]
        }
      ],
      "source": [
        "LojaMi = 0\n",
        "LojaG = 54000\n",
        "for M in range(5):\n",
        "  x=float(input(\"Digite o quanto você faturou\"))\n",
        "  LojaMi = LojaMi + x\n",
        "if LojaMi > LojaG:\n",
        "    print(LojaMi-LojaG)\n",
        "\n",
        "\n"
      ]
    }
  ]
}