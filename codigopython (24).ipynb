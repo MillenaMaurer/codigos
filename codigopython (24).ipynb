{
  "nbformat": 4,
  "nbformat_minor": 0,
  "metadata": {
    "colab": {
      "provenance": []
    },
    "kernelspec": {
      "name": "python3",
      "display_name": "Python 3"
    },
    "language_info": {
      "name": "python"
    }
  },
  "cells": [
    {
      "cell_type": "code",
      "execution_count": 1,
      "metadata": {
        "colab": {
          "base_uri": "https://localhost:8080/"
        },
        "id": "U0Lp2MBXVb8z",
        "outputId": "3d09022c-b056-4412-bcaa-da03d07a5600"
      },
      "outputs": [
        {
          "output_type": "stream",
          "name": "stdout",
          "text": [
            "Digite um numero inteiro :5\n",
            "1\n",
            "2\n",
            "3\n",
            "4\n",
            "5\n"
          ]
        }
      ],
      "source": [
        "numero = int(input(\"Digite um numero inteiro :\"))\n",
        "contador = 0\n",
        "while contador < numero:\n",
        "  contador += 1\n",
        "  print(contador)"
      ]
    }
  ]
}