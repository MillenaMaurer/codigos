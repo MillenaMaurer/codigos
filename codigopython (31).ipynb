{
  "nbformat": 4,
  "nbformat_minor": 0,
  "metadata": {
    "colab": {
      "provenance": []
    },
    "kernelspec": {
      "name": "python3",
      "display_name": "Python 3"
    },
    "language_info": {
      "name": "python"
    }
  },
  "cells": [
    {
      "cell_type": "code",
      "execution_count": 4,
      "metadata": {
        "colab": {
          "base_uri": "https://localhost:8080/"
        },
        "id": "BI-dmbNNUmDL",
        "outputId": "ff838f79-1176-4465-cc33-e6b9f1328cbd"
      },
      "outputs": [
        {
          "output_type": "stream",
          "name": "stdout",
          "text": [
            "Quantos numeros voce precisara para fazer sua média: 4\n",
            "digite 1 numero?5\n",
            "Soma dos numeros: 5 \n",
            " media dos numeros: 1.25\n",
            "digite 2 numero?5\n",
            "Soma dos numeros: 10 \n",
            " media dos numeros: 2.5\n",
            "digite 3 numero?5\n",
            "Soma dos numeros: 15 \n",
            " media dos numeros: 3.75\n",
            "digite 4 numero?5\n",
            "Soma dos numeros: 20 \n",
            " media dos numeros: 5.0\n"
          ]
        }
      ],
      "source": [
        "numeros = int(input(\"Quantos numeros voce precisara para fazer sua média: \"))\n",
        "soma = 0\n",
        "contador = 0\n",
        "while contador < numeros:\n",
        "  lista = int(input(f\"digite {contador+1} numero?\"))\n",
        "  contador += 1\n",
        "  soma += lista\n",
        "  media = soma/numeros\n",
        "  print(f\"Soma dos numeros: {soma} \\n media dos numeros: {media}\")"
      ]
    }
  ]
}