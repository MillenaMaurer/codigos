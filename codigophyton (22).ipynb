{
  "nbformat": 4,
  "nbformat_minor": 0,
  "metadata": {
    "colab": {
      "provenance": []
    },
    "kernelspec": {
      "name": "python3",
      "display_name": "Python 3"
    },
    "language_info": {
      "name": "python"
    }
  },
  "cells": [
    {
      "cell_type": "code",
      "execution_count": 6,
      "metadata": {
        "colab": {
          "base_uri": "https://localhost:8080/"
        },
        "id": "u2v0HL88HgiH",
        "outputId": "88e678ef-5adc-42af-e860-2d6f62c0d702"
      },
      "outputs": [
        {
          "output_type": "stream",
          "name": "stdout",
          "text": [
            "Digite seu nome :mi\n",
            "Digite sua senha :mi\n",
            "Digite uma senha valida :17\n",
            "Login feito com sucesso\n"
          ]
        }
      ],
      "source": [
        "nome = (input(\"Digite seu nome :\"))\n",
        "senha = (input(\"Digite sua senha :\"))\n",
        "while nome == senha:\n",
        "  senha = float(input(\"Digite uma senha valida :\"))\n",
        "print(\"Login feito com sucesso\")\n"
      ]
    }
  ]
}