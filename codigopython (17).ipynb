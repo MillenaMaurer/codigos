{
  "nbformat": 4,
  "nbformat_minor": 0,
  "metadata": {
    "colab": {
      "provenance": []
    },
    "kernelspec": {
      "name": "python3",
      "display_name": "Python 3"
    },
    "language_info": {
      "name": "python"
    }
  },
  "cells": [
    {
      "cell_type": "code",
      "execution_count": null,
      "metadata": {
        "id": "m5I3jdmjtAuL"
      },
      "outputs": [],
      "source": [
        "a = (input(\"Em que periodo voce estuda? Matutino, Vesperino ou Noturno?\"))\n",
        "if a == \"M\" or a == \"m\":\n",
        " print(\"Matutino\")\n",
        "elif a== \"V\" or a == \"v\":\n",
        " print(\"Vesperino\")\n",
        "elif a == \"N\" or a == \"n\":\n",
        " print(\"Noturno\")\n",
        "else:\n",
        "  print(\"código não identificado\")"
      ]
    }
  ]
}