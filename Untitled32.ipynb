{
  "nbformat": 4,
  "nbformat_minor": 0,
  "metadata": {
    "colab": {
      "provenance": []
    },
    "kernelspec": {
      "name": "python3",
      "display_name": "Python 3"
    },
    "language_info": {
      "name": "python"
    }
  },
  "cells": [
    {
      "cell_type": "code",
      "execution_count": null,
      "metadata": {
        "colab": {
          "base_uri": "https://localhost:8080/"
        },
        "id": "dbNZafiYwdld",
        "outputId": "efc69a54-16a9-4fdb-cab0-f43e67485e48"
      },
      "outputs": [
        {
          "output_type": "stream",
          "name": "stdout",
          "text": [
            "Coloque a base 5\n",
            "Coloque o expoente 2\n",
            "O resultado é: 25\n"
          ]
        }
      ],
      "source": [
        "x = int(input(\"Coloque a base \"))\n",
        "y = int(input(\"Coloque o expoente \"))\n",
        "for i in range(1):\n",
        "  total = x ** y\n",
        "print(f\"O resultado é: {total}\")"
      ]
    }
  ]
}