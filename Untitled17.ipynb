{
  "nbformat": 4,
  "nbformat_minor": 0,
  "metadata": {
    "colab": {
      "provenance": []
    },
    "kernelspec": {
      "name": "python3",
      "display_name": "Python 3"
    },
    "language_info": {
      "name": "python"
    }
  },
  "cells": [
    {
      "cell_type": "code",
      "execution_count": null,
      "metadata": {
        "colab": {
          "base_uri": "https://localhost:8080/"
        },
        "id": "9gyv4HSZCHze",
        "outputId": "6afd4b08-dc55-47fc-ac75-7fb72e5269c0"
      },
      "outputs": [
        {
          "output_type": "stream",
          "name": "stdout",
          "text": [
            "Digite um numero9\n",
            "9\n",
            "Digite um numero7\n",
            "9\n",
            "Digite um numero5\n",
            "9\n",
            "Digite um numero3\n",
            "9\n",
            "Digite um numero1\n",
            "9\n"
          ]
        }
      ],
      "source": [
        "maior_numero = int(0)\n",
        "for contador in range(5):\n",
        "  numero = int(input(\"Digite um numero\"))\n",
        "  if numero > maior_numero:\n",
        "    maior_numero = numero\n",
        "  print(maior_numero)"
      ]
    }
  ]
}