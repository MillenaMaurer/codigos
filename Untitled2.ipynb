{
  "nbformat": 4,
  "nbformat_minor": 0,
  "metadata": {
    "colab": {
      "provenance": []
    },
    "kernelspec": {
      "name": "python3",
      "display_name": "Python 3"
    },
    "language_info": {
      "name": "python"
    }
  },
  "cells": [
    {
      "cell_type": "code",
      "execution_count": null,
      "metadata": {
        "colab": {
          "base_uri": "https://localhost:8080/"
        },
        "id": "fZFHqdzXQvrh",
        "outputId": "368d07e2-77cd-4e18-ab5d-2d4f97630b71"
      },
      "outputs": [
        {
          "output_type": "stream",
          "name": "stdout",
          "text": [
            "escolha o numero 1  1\n",
            "escolha o numero 2  2\n",
            "escolha o numero 3  3\n",
            "3\n"
          ]
        }
      ],
      "source": [
        "a = int(input(\"escolha o numero 1  \"))\n",
        "b = int(input(\"escolha o numero 2  \"))\n",
        "c = int(input(\"escolha o numero 3  \"))\n",
        "if a > b and a > c:\n",
        "  print(a)\n",
        "elif b > a and b > c:\n",
        "  print(b)\n",
        "  print()\n",
        "elif c > a and c >b:\n",
        "  print(c)\n",
        "elif a < b and a < c:\n",
        "  print(a)\n",
        "elif b < a and b < c:\n",
        "  print(b)\n",
        "elif c < a and c < b:\n",
        "  print(c)\n",
        "else:\n",
        "  print(\"Invalido\")"
      ]
    }
  ]
}