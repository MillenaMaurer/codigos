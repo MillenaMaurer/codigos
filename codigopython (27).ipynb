{
  "nbformat": 4,
  "nbformat_minor": 0,
  "metadata": {
    "colab": {
      "provenance": []
    },
    "kernelspec": {
      "name": "python3",
      "display_name": "Python 3"
    },
    "language_info": {
      "name": "python"
    }
  },
  "cells": [
    {
      "cell_type": "code",
      "execution_count": 8,
      "metadata": {
        "colab": {
          "base_uri": "https://localhost:8080/"
        },
        "id": "51xN8RqLaPBX",
        "outputId": "97fc3650-18a5-4755-ebf8-0a7cf8621a05"
      },
      "outputs": [
        {
          "output_type": "stream",
          "name": "stdout",
          "text": [
            "Digite um numero:2\n",
            "Digite uma senha valida1234\n",
            "Login feito com sucesso\n"
          ]
        }
      ],
      "source": [
        "senha = float(input(\"Digite um numero:\"))\n",
        "while senha != 1234:\n",
        " senha = float(input(\"Digite uma senha valida\"))\n",
        "print(\"Login feito com sucesso\")"
      ]
    }
  ]
}