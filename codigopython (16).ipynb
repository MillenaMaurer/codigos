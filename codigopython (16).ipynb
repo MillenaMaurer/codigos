{
  "nbformat": 4,
  "nbformat_minor": 0,
  "metadata": {
    "colab": {
      "provenance": []
    },
    "kernelspec": {
      "name": "python3",
      "display_name": "Python 3"
    },
    "language_info": {
      "name": "python"
    }
  },
  "cells": [
    {
      "cell_type": "code",
      "execution_count": null,
      "metadata": {
        "colab": {
          "base_uri": "https://localhost:8080/"
        },
        "id": "Keaspbrfhwmx",
        "outputId": "26cbbe2a-0dad-4bb8-829d-c40a9a46d6cf"
      },
      "outputs": [
        {
          "output_type": "stream",
          "name": "stdout",
          "text": [
            "insira o primero numero123\n",
            "insira o segundo numero456\n",
            "insira o terceiro numero789\n",
            "789 456 123\n"
          ]
        }
      ],
      "source": [
        "a = int(input(\"insira o primero numero\"))\n",
        "b = int(input(\"insira o segundo numero\"))\n",
        "c = int(input(\"insira o terceiro numero\"))\n",
        "if a > b > c:\n",
        " print(a, b, c)\n",
        "elif b > a > c:\n",
        " print(b, a, c)\n",
        "elif c > a > b:\n",
        " print(c, a, b)\n",
        "elif a > c > b:\n",
        " print(a, c, b)\n",
        "elif b > c > a:\n",
        " print(b, c, a)\n",
        "elif c > b > a:\n",
        "  print(c, b, a)"
      ]
    }
  ]
}