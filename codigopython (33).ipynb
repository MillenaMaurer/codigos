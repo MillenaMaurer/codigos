{
  "nbformat": 4,
  "nbformat_minor": 0,
  "metadata": {
    "colab": {
      "provenance": []
    },
    "kernelspec": {
      "name": "python3",
      "display_name": "Python 3"
    },
    "language_info": {
      "name": "python"
    }
  },
  "cells": [
    {
      "cell_type": "code",
      "execution_count": 3,
      "metadata": {
        "colab": {
          "base_uri": "https://localhost:8080/"
        },
        "id": "mP4XqMfvfmXX",
        "outputId": "cefefaf8-2f3e-48de-bac9-b33c77cc4f6c"
      },
      "outputs": [
        {
          "output_type": "stream",
          "name": "stdout",
          "text": [
            "Insira um número: 5\n",
            "Insira um  numero diferente e quando desejar parar coloque um numero negativo:  3\n",
            "Insira um  numero diferente e quando desejar parar coloque um numero negativo:  7\n",
            "Insira um  numero diferente e quando desejar parar coloque um numero negativo:  -1\n",
            "O maior numero é: 7.0\n"
          ]
        }
      ],
      "source": [
        "maior = 0\n",
        "n = float(input(\"Insira um número: \"))\n",
        "while n > 0:\n",
        "  if n > maior:\n",
        "   maior = n\n",
        "  n = float(input(\"Insira um  numero diferente e quando desejar parar coloque um numero negativo:  \"))\n",
        "print(f\"O maior numero é: {maior}\")"
      ]
    }
  ]
}