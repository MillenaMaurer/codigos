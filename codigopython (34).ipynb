{
  "nbformat": 4,
  "nbformat_minor": 0,
  "metadata": {
    "colab": {
      "provenance": []
    },
    "kernelspec": {
      "name": "python3",
      "display_name": "Python 3"
    },
    "language_info": {
      "name": "python"
    }
  },
  "cells": [
    {
      "cell_type": "code",
      "execution_count": 11,
      "metadata": {
        "colab": {
          "base_uri": "https://localhost:8080/"
        },
        "id": "8wqg_JlThRZx",
        "outputId": "0e95639c-a946-43df-f4d4-2710ec7d0a86"
      },
      "outputs": [
        {
          "output_type": "stream",
          "name": "stdout",
          "text": [
            " populaçãoa ultrapassa ou se iguala a populaçãob em % de anos : 63%\n"
          ]
        }
      ],
      "source": [
        "populaçãoa = 80000\n",
        "populaçãob = 200000\n",
        "ano = 0\n",
        "while populaçãoa <= populaçãob:\n",
        "  populaçãoa += populaçãoa * 0.03\n",
        "  populaçãob += populaçãob * 0.015\n",
        "  ano += 1\n",
        "print(f\" populaçãoa ultrapassa ou se iguala a populaçãob em % de anos : {ano}%\")\n",
        "\n",
        "\n"
      ]
    }
  ]
}