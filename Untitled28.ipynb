{
  "nbformat": 4,
  "nbformat_minor": 0,
  "metadata": {
    "colab": {
      "provenance": []
    },
    "kernelspec": {
      "name": "python3",
      "display_name": "Python 3"
    },
    "language_info": {
      "name": "python"
    }
  },
  "cells": [
    {
      "cell_type": "code",
      "execution_count": null,
      "metadata": {
        "colab": {
          "base_uri": "https://localhost:8080/"
        },
        "id": "pxUkPGngD-4D",
        "outputId": "22b7bd01-cd4b-475b-f427-09a5619456b8"
      },
      "outputs": [
        {
          "output_type": "stream",
          "name": "stdout",
          "text": [
            "Digite uma nota10\n",
            "Valor valido\n"
          ]
        }
      ],
      "source": [
        "a = int(input(\"Digite uma nota\"))\n",
        "if a in range(0, 11):\n",
        "  print(\"Valor valido\")\n",
        "elif a != (0, 10):\n",
        "  print(\"Valor invalido, tente novamente\")\n"
      ]
    }
  ]
}