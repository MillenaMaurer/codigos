{
  "nbformat": 4,
  "nbformat_minor": 0,
  "metadata": {
    "colab": {
      "provenance": []
    },
    "kernelspec": {
      "name": "python3",
      "display_name": "Python 3"
    },
    "language_info": {
      "name": "python"
    }
  },
  "cells": [
    {
      "cell_type": "code",
      "execution_count": 17,
      "metadata": {
        "colab": {
          "base_uri": "https://localhost:8080/"
        },
        "id": "8wqg_JlThRZx",
        "outputId": "f20e87e3-bae4-4310-b808-35ad2f53bb0e"
      },
      "outputs": [
        {
          "output_type": "stream",
          "name": "stdout",
          "text": [
            "Qual seu nome? millena\n",
            "Qual sua idade? 16\n",
            "Qual seu salário? 1200\n",
            "Qual seu sexo? f\n",
            "Qual seu Estado Civil? c\n",
            "Cadastro feito com sucesso\n"
          ]
        }
      ],
      "source": [
        "nome = input(\"Qual seu nome? \")\n",
        "idade = int(input(\"Qual sua idade? \"))\n",
        "salario = int and float(input(\"Qual seu salário? \"))\n",
        "sexo = input(\"Qual seu sexo? \")\n",
        "estado_civil = input(\"Qual seu Estado Civil? \")\n",
        "while len(nome) < 3:\n",
        "    nome = input(\"Qual seu nome? (Caracteres insuficiente) \")\n",
        "while idade > 150 or idade < 0:\n",
        "    idade = input(\"Qual sua idade? (Idade inválida) \")\n",
        "while salario < 0:\n",
        "    salario = input(\"Qual seu salário? (Quantia inválida) \")\n",
        "while sexo != 'm' and sexo != 'f':\n",
        "    sexo = input(\"Qual seu sexo? (Sexo inválido) \")\n",
        "while estado_civil != 's' and estado_civil != 'c' and estado_civil != 'v' and  estado_civil != 'd':\n",
        "    estado_civil = input(\"Qual seu Estado Civil? (Alternativa incorreta) \")\n",
        "print(\"Cadastro feito com sucesso\")\n",
        "\n"
      ]
    }
  ]
}