{
  "nbformat": 4,
  "nbformat_minor": 0,
  "metadata": {
    "colab": {
      "provenance": []
    },
    "kernelspec": {
      "name": "python3",
      "display_name": "Python 3"
    },
    "language_info": {
      "name": "python"
    }
  },
  "cells": [
    {
      "cell_type": "code",
      "execution_count": null,
      "metadata": {
        "colab": {
          "base_uri": "https://localhost:8080/"
        },
        "id": "flyPWHvHMlxp",
        "outputId": "21449558-36a9-4590-f611-ae287d7ae149"
      },
      "outputs": [
        {
          "output_type": "stream",
          "name": "stdout",
          "text": [
            "1 x 20 = 20\n",
            "2 x 20 = 40\n",
            "3 x 20 = 60\n",
            "4 x 20 = 80\n",
            "5 x 20 = 100\n",
            "6 x 20 = 120\n",
            "7 x 20 = 140\n",
            "8 x 20 = 160\n",
            "9 x 20 = 180\n",
            "10 x 20 = 200\n",
            "11 x 20 = 220\n",
            "12 x 20 = 240\n",
            "13 x 20 = 260\n",
            "14 x 20 = 280\n",
            "15 x 20 = 300\n",
            "16 x 20 = 320\n",
            "17 x 20 = 340\n",
            "18 x 20 = 360\n",
            "19 x 20 = 380\n",
            "20 x 20 = 400\n"
          ]
        }
      ],
      "source": [
        "for M in range(1, 21):\n",
        " for D in range(1, 21):\n",
        "  x= M * D\n",
        " print(f\"{M} x {D} = {x}\")\n"
      ]
    }
  ]
}