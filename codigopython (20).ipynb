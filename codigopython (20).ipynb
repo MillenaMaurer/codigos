{
  "nbformat": 4,
  "nbformat_minor": 0,
  "metadata": {
    "colab": {
      "provenance": []
    },
    "kernelspec": {
      "name": "python3",
      "display_name": "Python 3"
    },
    "language_info": {
      "name": "python"
    }
  },
  "cells": [
    {
      "cell_type": "code",
      "execution_count": 3,
      "metadata": {
        "colab": {
          "base_uri": "https://localhost:8080/"
        },
        "id": "p0lwcu6t_RTq",
        "outputId": "501cc62b-9be0-421e-ab1e-b664a9c44e74"
      },
      "outputs": [
        {
          "output_type": "stream",
          "name": "stdout",
          "text": [
            "Digite uma nota entre 0 e 1015\n",
            "Digite um valor valido: 9\n",
            "Sucesso\n"
          ]
        }
      ],
      "source": [
        "nota = float(input(\"Digite uma nota entre 0 e 10\"))\n",
        "while nota > 10 or nota < 0:\n",
        "  nota = float(input(\"Digite um valor valido: \"))\n",
        "print(\"Sucesso\")"
      ]
    }
  ]
}