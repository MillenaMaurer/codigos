{
  "nbformat": 4,
  "nbformat_minor": 0,
  "metadata": {
    "colab": {
      "provenance": []
    },
    "kernelspec": {
      "name": "python3",
      "display_name": "Python 3"
    },
    "language_info": {
      "name": "python"
    }
  },
  "cells": [
    {
      "cell_type": "code",
      "execution_count": null,
      "metadata": {
        "colab": {
          "base_uri": "https://localhost:8080/"
        },
        "id": "39g469vyz_X-",
        "outputId": "c76dfec5-ed66-4018-b90f-512157c85b75"
      },
      "outputs": [
        {
          "output_type": "stream",
          "name": "stdout",
          "text": [
            "Em que turno você estuda? M(Matutino), V(Vespertino), N(Noturnom\n",
            "Bom dia!\n"
          ]
        }
      ],
      "source": [
        "a = (input(\"Em que turno você estuda? M(Matutino), V(Vespertino), N(Noturno\"))\n",
        "if a == \"M\" or  a == \"m\":\n",
        " print(\"Bom dia!\")\n",
        "elif a == \"V\" or a == \"v\":\n",
        "  print(\"Boa tarde!\")\n",
        "elif a == \"N\" or a == \"n\":\n",
        "  print(\"Boa noite!\")\n"
      ]
    }
  ]
}