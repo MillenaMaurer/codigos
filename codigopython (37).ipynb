{
  "nbformat": 4,
  "nbformat_minor": 0,
  "metadata": {
    "colab": {
      "provenance": []
    },
    "kernelspec": {
      "name": "python3",
      "display_name": "Python 3"
    },
    "language_info": {
      "name": "python"
    }
  },
  "cells": [
    {
      "cell_type": "code",
      "execution_count": 7,
      "metadata": {
        "colab": {
          "base_uri": "https://localhost:8080/"
        },
        "id": "diMFH-5f8Z5s",
        "outputId": "b5673ca8-c7ee-46cb-9a6a-2ca72217d2ee"
      },
      "outputs": [
        {
          "output_type": "stream",
          "name": "stdout",
          "text": [
            "Digite um numero: 5\n",
            " fatorial do 5! = 1\n"
          ]
        }
      ],
      "source": [
        "n = int(input(\"Digite um numero: \"))\n",
        "fatorial = 1\n",
        "M = 1\n",
        "if n == 0:\n",
        "  print(\"Fatorial de 0 = 1\")\n",
        "  while M <= n :\n",
        "    fatorial = fatorial * M\n",
        "    M = M + 1\n",
        "print(f\" fatorial do {n}! = {fatorial}\")"
      ]
    }
  ]
}