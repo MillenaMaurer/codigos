{
  "nbformat": 4,
  "nbformat_minor": 0,
  "metadata": {
    "colab": {
      "provenance": []
    },
    "kernelspec": {
      "name": "python3",
      "display_name": "Python 3"
    },
    "language_info": {
      "name": "python"
    }
  },
  "cells": [
    {
      "cell_type": "code",
      "execution_count": null,
      "metadata": {
        "colab": {
          "base_uri": "https://localhost:8080/"
        },
        "id": "onpeZ5RhIaF7",
        "outputId": "ad9dd6ff-4585-4466-cdd1-c0a3b80c887e"
      },
      "outputs": [
        {
          "output_type": "stream",
          "name": "stdout",
          "text": [
            "Insira o primeiro valor153\n",
            "Insira o segundo valor964\n",
            "Insira o terceiro valor542\n",
            "964 153\n"
          ]
        }
      ],
      "source": [
        "a = int(input(\"Insira o primeiro valor\"))\n",
        "b = int(input(\"Insira o segundo valor\"))\n",
        "c = int(input(\"Insira o terceiro valor\"))\n",
        "if a > b and b > c:\n",
        "  print(a, c)\n",
        "elif b > a and a > c:\n",
        "  print(b, c)\n",
        "elif c > a and a > b:\n",
        "  print(c, b)\n",
        "elif a > c and c > b:\n",
        "  print(a, b)\n",
        "elif b > c and c > a:\n",
        "  print(b, a)\n",
        "elif c > b and b > a:\n",
        "  print(c, a)\n",
        "\n"
      ]
    }
  ]
}