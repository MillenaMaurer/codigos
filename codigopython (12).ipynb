{
  "nbformat": 4,
  "nbformat_minor": 0,
  "metadata": {
    "colab": {
      "provenance": []
    },
    "kernelspec": {
      "name": "python3",
      "display_name": "Python 3"
    },
    "language_info": {
      "name": "python"
    }
  },
  "cells": [
    {
      "cell_type": "code",
      "execution_count": null,
      "metadata": {
        "colab": {
          "base_uri": "https://localhost:8080/"
        },
        "id": "K445AQu4Rf4K",
        "outputId": "809d4402-52d0-4cfa-ac5a-535459f7bdd1"
      },
      "outputs": [
        {
          "output_type": "stream",
          "name": "stdout",
          "text": [
            "Digite uma nota11\n",
            "Valor invalido, tente novamente\n"
          ]
        }
      ],
      "source": [
        "for i in range(5)\n",
        "  a = int(input(\"Digite uma nota\"))\n",
        "  if a >= 0 and a <= 10:\n",
        "    print(\"Valor valido\")\n",
        "    break;\n",
        "  else:\n",
        "    print(\"Valor invalido, tente novamente\")\n",
        "\n",
        "\n",
        "\n"
      ]
    }
  ]
}