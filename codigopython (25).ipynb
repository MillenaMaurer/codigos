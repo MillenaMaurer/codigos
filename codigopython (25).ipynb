{
  "nbformat": 4,
  "nbformat_minor": 0,
  "metadata": {
    "colab": {
      "provenance": []
    },
    "kernelspec": {
      "name": "python3",
      "display_name": "Python 3"
    },
    "language_info": {
      "name": "python"
    }
  },
  "cells": [
    {
      "cell_type": "code",
      "execution_count": 2,
      "metadata": {
        "colab": {
          "base_uri": "https://localhost:8080/"
        },
        "id": "RJNCp42kWPyR",
        "outputId": "ede9fe32-a162-4fab-a176-9faaa98303a2"
      },
      "outputs": [
        {
          "output_type": "stream",
          "name": "stdout",
          "text": [
            "Digite um numero inteiro :5\n",
            "4\n",
            "6\n"
          ]
        }
      ],
      "source": [
        "numero = int(input(\"Digite um numero inteiro :\"))\n",
        "contador = 2\n",
        "while contador < numero:\n",
        "  contador += 2\n",
        "  print(contador)"
      ]
    }
  ]
}