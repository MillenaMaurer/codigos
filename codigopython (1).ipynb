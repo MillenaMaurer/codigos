{
  "nbformat": 4,
  "nbformat_minor": 0,
  "metadata": {
    "colab": {
      "provenance": []
    },
    "kernelspec": {
      "name": "python3",
      "display_name": "Python 3"
    },
    "language_info": {
      "name": "python"
    }
  },
  "cells": [
    {
      "cell_type": "code",
      "execution_count": null,
      "metadata": {
        "colab": {
          "base_uri": "https://localhost:8080/"
        },
        "id": "iVZ9WNE0_2jE",
        "outputId": "25eef465-9e41-465e-af6f-9cf273a81418"
      },
      "outputs": [
        {
          "output_type": "stream",
          "name": "stdout",
          "text": [
            "Qual dia da semana é de sua preferência?quinta\n",
            "5\n"
          ]
        }
      ],
      "source": [
        "a = (input(\"Qual dia da semana é de sua preferência?\"))\n",
        "if a == \"Domindo\" or a == \"domingo\":\n",
        "  print(\"1\")\n",
        "elif a == \"Segunda\" or a == \"segunda\":\n",
        "  print(\"2\")\n",
        "elif a == \"Terça\" or a == \"Terça\":\n",
        "  print(\"3\")\n",
        "elif a == \"Quarta\" or a == \"quarta\":\n",
        "  print(\"4\")\n",
        "elif a == \"Quinta\" or a == \"quinta\":\n",
        "  print(\"5\")\n",
        "elif a == \"Sexta\" or a == \"sexta\":\n",
        "  print(\"6\")\n",
        "elif a == \"Sabado\" or a == \"sabado\":\n",
        "  print(\"7\")\n",
        "else:\n",
        "  print(\"Não identificado\")"
      ]
    }
  ]
}