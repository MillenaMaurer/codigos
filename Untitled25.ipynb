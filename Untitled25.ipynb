{
  "nbformat": 4,
  "nbformat_minor": 0,
  "metadata": {
    "colab": {
      "provenance": []
    },
    "kernelspec": {
      "name": "python3",
      "display_name": "Python 3"
    },
    "language_info": {
      "name": "python"
    }
  },
  "cells": [
    {
      "cell_type": "code",
      "execution_count": null,
      "metadata": {
        "colab": {
          "base_uri": "https://localhost:8080/"
        },
        "id": "PIVgk9NckEDl",
        "outputId": "a38c8cbd-8e69-4d51-bf8b-a2e1cb43ea57"
      },
      "outputs": [
        {
          "output_type": "stream",
          "name": "stdout",
          "text": [
            "Digite um numero inteiro1\n",
            "Digite outro numero intiro5\n",
            "2\n",
            "3\n",
            "4\n"
          ]
        }
      ],
      "source": [
        "a = int(input(\"Digite um numero inteiro\"))\n",
        "b = int(input(\"Digite outro numero intiro\"))\n",
        "for c in range(a+1,b):\n",
        "  print(f\"{c}\")"
      ]
    }
  ]
}