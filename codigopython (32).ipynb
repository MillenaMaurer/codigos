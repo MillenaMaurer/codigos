{
  "nbformat": 4,
  "nbformat_minor": 0,
  "metadata": {
    "colab": {
      "provenance": []
    },
    "kernelspec": {
      "name": "python3",
      "display_name": "Python 3"
    },
    "language_info": {
      "name": "python"
    }
  },
  "cells": [
    {
      "cell_type": "code",
      "execution_count": 3,
      "metadata": {
        "colab": {
          "base_uri": "https://localhost:8080/"
        },
        "id": "xmoInxUCcUWk",
        "outputId": "320b4efc-307f-44a1-c190-5abcb05796bb"
      },
      "outputs": [
        {
          "output_type": "stream",
          "name": "stdout",
          "text": [
            "Digite o valor: 5\n",
            "Digite o valor: 5\n",
            "Digite o valor: 5\n",
            "Digite o valor: 0\n",
            "Soma dos numeros até 0, é: 15.0\n"
          ]
        }
      ],
      "source": [
        "soma = 0\n",
        "n = float(input(\"Digite o valor: \"))\n",
        "while n != 0:\n",
        "  soma += n\n",
        "  n = float(input(\"Digite o valor: \"))\n",
        "print(f\"Soma dos numeros até 0, é: {soma}\")"
      ]
    }
  ]
}