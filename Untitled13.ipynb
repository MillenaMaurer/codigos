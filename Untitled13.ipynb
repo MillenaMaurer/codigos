{
  "nbformat": 4,
  "nbformat_minor": 0,
  "metadata": {
    "colab": {
      "provenance": []
    },
    "kernelspec": {
      "name": "python3",
      "display_name": "Python 3"
    },
    "language_info": {
      "name": "python"
    }
  },
  "cells": [
    {
      "cell_type": "code",
      "execution_count": null,
      "metadata": {
        "colab": {
          "base_uri": "https://localhost:8080/"
        },
        "id": "oeTu24w6scvs",
        "outputId": "90446b7d-9ff9-414e-ade7-384673e3ef5c"
      },
      "outputs": [
        {
          "output_type": "stream",
          "name": "stdout",
          "text": [
            "Digite sua primeira nota9\n",
            "Digite sua segunda nota7\n",
            "Aprovado\n"
          ]
        }
      ],
      "source": [
        "nota1 = float(input(\"Digite sua primeira nota\"))\n",
        "nota2 = float(input(\"Digite sua segunda nota\"))\n",
        "media = (nota1 + nota2)/2\n",
        "\n",
        "if media >= 7 and media < 10:\n",
        "  print(\"Aprovado\")\n",
        "elif media == 10:\n",
        "  print(\"Aprovado com distinção\")\n",
        "else:\n",
        "  print(\"Reprovado\")"
      ]
    }
  ]
}