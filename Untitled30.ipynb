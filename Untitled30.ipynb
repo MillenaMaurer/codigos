{
  "nbformat": 4,
  "nbformat_minor": 0,
  "metadata": {
    "colab": {
      "provenance": []
    },
    "kernelspec": {
      "name": "python3",
      "display_name": "Python 3"
    },
    "language_info": {
      "name": "python"
    }
  },
  "cells": [
    {
      "cell_type": "code",
      "execution_count": null,
      "metadata": {
        "colab": {
          "base_uri": "https://localhost:8080/"
        },
        "id": "_JWhNS-NUXIr",
        "outputId": "6e3e4cad-d612-4a2e-a681-c6687b5aa57c"
      },
      "outputs": [
        {
          "output_type": "stream",
          "name": "stdout",
          "text": [
            "Digite o quanto você faturou12000\n",
            "Digite o quanto você faturou50\n",
            "Digite o quanto você faturou400\n",
            "Digite o quanto você faturou120\n",
            "Digite o quanto você faturou10000\n",
            "Não faturou o suficiente, melhore.\n"
          ]
        }
      ],
      "source": [
        "LojaMi = 0\n",
        "LojaG = 54000\n",
        "for M in range(5):\n",
        " x= float(input(\"Digite o quanto você faturou\"))\n",
        "Lojami = LojaMi + x\n",
        "if Lojami > LojaG:\n",
        "  print(LojaMi-LojaG)\n",
        "elif LojaMi < LojaG:\n",
        "  print(\"Não faturou o suficiente, melhore.\")"
      ]
    }
  ]
}