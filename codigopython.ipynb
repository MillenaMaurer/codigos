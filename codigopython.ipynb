{
  "nbformat": 4,
  "nbformat_minor": 0,
  "metadata": {
    "colab": {
      "provenance": []
    },
    "kernelspec": {
      "name": "python3",
      "display_name": "Python 3"
    },
    "language_info": {
      "name": "python"
    }
  },
  "cells": [
    {
      "cell_type": "code",
      "execution_count": 4,
      "metadata": {
        "colab": {
          "base_uri": "https://localhost:8080/"
        },
        "id": "jM1de6zdWwTV",
        "outputId": "eb5b7b6e-152a-4aa2-a7a6-e729fec654ea"
      },
      "outputs": [
        {
          "output_type": "stream",
          "name": "stdout",
          "text": [
            "Digite o salário inicial: 1200\n",
            "O salário atual é R$6.167631988645897e+86\n"
          ]
        }
      ],
      "source": [
        "salariox = float(input(\"Digite o salário inicial: \"))\n",
        "anoinicial = 1995\n",
        "salarioy = salariox\n",
        "atual_ano = anoinicial + 1\n",
        "percentual = 0.015\n",
        "while atual_ano <= 2024:\n",
        "    percentual *= 2\n",
        "    salarioy += salarioy * percentual\n",
        "    atual_ano += 1\n",
        "print(f\"O salário atual é R${salarioy}\")"
      ]
    }
  ]
}